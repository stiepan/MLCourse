{
  "nbformat": 4,
  "nbformat_minor": 0,
  "metadata": {
    "kernelspec": {
      "name": "python3",
      "display_name": "Python 3"
    },
    "colab": {
      "name": "Linear regression L1E2.ipynb",
      "provenance": [],
      "collapsed_sections": [],
      "include_colab_link": true
    }
  },
  "cells": [
    {
      "cell_type": "markdown",
      "metadata": {
        "id": "view-in-github",
        "colab_type": "text"
      },
      "source": [
        "<a href=\"https://colab.research.google.com/github/stiepan/MLCourse/blob/master/Linear_regression_L1E2.ipynb\" target=\"_parent\"><img src=\"https://colab.research.google.com/assets/colab-badge.svg\" alt=\"Open In Colab\"/></a>"
      ]
    },
    {
      "cell_type": "markdown",
      "metadata": {
        "id": "VqdiMxZx-EoD",
        "colab_type": "text"
      },
      "source": [
        "# Linear regression \n",
        "\n",
        "In this exercise you will use linear regression to predict flat prices. One more time, training will be handled via gradient descent. Although, contratry to the first exercise, we will now:\n",
        "* have multiple features (i.e. variables used to make the prediction),\n",
        "* employ some basic feature engineering,\n",
        "* work with a different loss function.\n",
        "\n",
        "Let's start with getting the data."
      ]
    },
    {
      "cell_type": "code",
      "metadata": {
        "id": "heeKjQ2r-EoH",
        "colab_type": "code",
        "colab": {
          "base_uri": "https://localhost:8080/",
          "height": 717
        },
        "outputId": "f0b2c523-d32a-4541-e3aa-52894ce7e1c1"
      },
      "source": [
        "%matplotlib inline\n",
        "\n",
        "!wget -O mieszkania.csv https://www.dropbox.com/s/zey0gx91pna8irj/mieszkania.csv?dl=1\n",
        "!wget -O mieszkania_test.csv https://www.dropbox.com/s/dbrj6sbxb4ayqjz/mieszkania_test.csv?dl=1"
      ],
      "execution_count": 1,
      "outputs": [
        {
          "output_type": "stream",
          "text": [
            "--2020-03-21 20:33:47--  https://www.dropbox.com/s/zey0gx91pna8irj/mieszkania.csv?dl=1\n",
            "Resolving www.dropbox.com (www.dropbox.com)... 162.125.8.1, 2620:100:6016:1::a27d:101\n",
            "Connecting to www.dropbox.com (www.dropbox.com)|162.125.8.1|:443... connected.\n",
            "HTTP request sent, awaiting response... 301 Moved Permanently\n",
            "Location: /s/dl/zey0gx91pna8irj/mieszkania.csv [following]\n",
            "--2020-03-21 20:33:47--  https://www.dropbox.com/s/dl/zey0gx91pna8irj/mieszkania.csv\n",
            "Reusing existing connection to www.dropbox.com:443.\n",
            "HTTP request sent, awaiting response... 302 Found\n",
            "Location: https://ucd93e8d5a1a4147b19158371972.dl.dropboxusercontent.com/cd/0/get/A0XY7RlsFHboWjTsUJx31HGCZImsXGiboskUcPe8M6xY62rEtz0h8aUjhY649_RQ5EWLLMNDp7FUygDVCFII3lQiYfSTseOnQTVfExc9uZ1C3g/file?dl=1# [following]\n",
            "--2020-03-21 20:33:47--  https://ucd93e8d5a1a4147b19158371972.dl.dropboxusercontent.com/cd/0/get/A0XY7RlsFHboWjTsUJx31HGCZImsXGiboskUcPe8M6xY62rEtz0h8aUjhY649_RQ5EWLLMNDp7FUygDVCFII3lQiYfSTseOnQTVfExc9uZ1C3g/file?dl=1\n",
            "Resolving ucd93e8d5a1a4147b19158371972.dl.dropboxusercontent.com (ucd93e8d5a1a4147b19158371972.dl.dropboxusercontent.com)... 162.125.8.6, 2620:100:6016:6::a27d:106\n",
            "Connecting to ucd93e8d5a1a4147b19158371972.dl.dropboxusercontent.com (ucd93e8d5a1a4147b19158371972.dl.dropboxusercontent.com)|162.125.8.6|:443... connected.\n",
            "HTTP request sent, awaiting response... 200 OK\n",
            "Length: 6211 (6.1K) [application/binary]\n",
            "Saving to: ‘mieszkania.csv’\n",
            "\n",
            "mieszkania.csv      100%[===================>]   6.07K  --.-KB/s    in 0s      \n",
            "\n",
            "2020-03-21 20:33:48 (906 MB/s) - ‘mieszkania.csv’ saved [6211/6211]\n",
            "\n",
            "--2020-03-21 20:33:49--  https://www.dropbox.com/s/dbrj6sbxb4ayqjz/mieszkania_test.csv?dl=1\n",
            "Resolving www.dropbox.com (www.dropbox.com)... 162.125.1.1, 2620:100:6016:1::a27d:101\n",
            "Connecting to www.dropbox.com (www.dropbox.com)|162.125.1.1|:443... connected.\n",
            "HTTP request sent, awaiting response... 301 Moved Permanently\n",
            "Location: /s/dl/dbrj6sbxb4ayqjz/mieszkania_test.csv [following]\n",
            "--2020-03-21 20:33:49--  https://www.dropbox.com/s/dl/dbrj6sbxb4ayqjz/mieszkania_test.csv\n",
            "Reusing existing connection to www.dropbox.com:443.\n",
            "HTTP request sent, awaiting response... 302 Found\n",
            "Location: https://uc50a5d2cc6bc3cdd3d2cd0f701b.dl.dropboxusercontent.com/cd/0/get/A0WOfk-6GrR5wDHKa9v8KjmndNezhviM-2jGrQgBPD2R4YhX-k6wSy9L6c_UI72oJ6F0GRs-v4qcvrlRIoTdfycA68bcFAAenr264LGtzpS4fw/file?dl=1# [following]\n",
            "--2020-03-21 20:33:49--  https://uc50a5d2cc6bc3cdd3d2cd0f701b.dl.dropboxusercontent.com/cd/0/get/A0WOfk-6GrR5wDHKa9v8KjmndNezhviM-2jGrQgBPD2R4YhX-k6wSy9L6c_UI72oJ6F0GRs-v4qcvrlRIoTdfycA68bcFAAenr264LGtzpS4fw/file?dl=1\n",
            "Resolving uc50a5d2cc6bc3cdd3d2cd0f701b.dl.dropboxusercontent.com (uc50a5d2cc6bc3cdd3d2cd0f701b.dl.dropboxusercontent.com)... 162.125.1.6, 2620:100:6016:6::a27d:106\n",
            "Connecting to uc50a5d2cc6bc3cdd3d2cd0f701b.dl.dropboxusercontent.com (uc50a5d2cc6bc3cdd3d2cd0f701b.dl.dropboxusercontent.com)|162.125.1.6|:443... connected.\n",
            "HTTP request sent, awaiting response... 200 OK\n",
            "Length: 6247 (6.1K) [application/binary]\n",
            "Saving to: ‘mieszkania_test.csv’\n",
            "\n",
            "mieszkania_test.csv 100%[===================>]   6.10K  --.-KB/s    in 0s      \n",
            "\n",
            "2020-03-21 20:33:50 (849 MB/s) - ‘mieszkania_test.csv’ saved [6247/6247]\n",
            "\n"
          ],
          "name": "stdout"
        }
      ]
    },
    {
      "cell_type": "code",
      "metadata": {
        "id": "yI9wFXv5-EoP",
        "colab_type": "code",
        "colab": {
          "base_uri": "https://localhost:8080/",
          "height": 408
        },
        "outputId": "9f111ff6-d257-4922-d6d5-3bf17d133efe"
      },
      "source": [
        "!head mieszkania.csv mieszkania_test.csv"
      ],
      "execution_count": 2,
      "outputs": [
        {
          "output_type": "stream",
          "text": [
            "==> mieszkania.csv <==\n",
            "m2,dzielnica,ilość_sypialni,ilość_łazienek,rok_budowy,parking_podziemny,cena\n",
            "104,mokotowo,2,2,1940,1,780094\n",
            "43,ochotowo,1,1,1970,1,346912\n",
            "128,grodziskowo,3,2,1916,1,523466\n",
            "112,mokotowo,3,2,1920,1,830965\n",
            "149,mokotowo,3,3,1977,0,1090479\n",
            "80,ochotowo,2,2,1937,0,599060\n",
            "58,ochotowo,2,1,1922,0,463639\n",
            "23,ochotowo,1,1,1929,0,166785\n",
            "40,mokotowo,1,1,1973,0,318849\n",
            "\n",
            "==> mieszkania_test.csv <==\n",
            "m2,dzielnica,ilość_sypialni,ilość_łazienek,rok_budowy,parking_podziemny,cena\n",
            "71,wolowo,2,2,1912,1,322227\n",
            "45,mokotowo,1,1,1938,0,295878\n",
            "38,mokotowo,1,1,1999,1,306530\n",
            "70,ochotowo,2,2,1980,1,553641\n",
            "136,mokotowo,3,2,1939,1,985348\n",
            "128,wolowo,3,2,1983,1,695726\n",
            "23,grodziskowo,1,1,1975,0,99751\n",
            "117,mokotowo,3,2,1942,0,891261\n",
            "65,ochotowo,2,1,2002,1,536499\n"
          ],
          "name": "stdout"
        }
      ]
    },
    {
      "cell_type": "markdown",
      "metadata": {
        "id": "iH8Ut02G-EoU",
        "colab_type": "text"
      },
      "source": [
        "Each row in the data represents a separate property. Our goal is to use the data from `mieszkania.csv` to create a model that can predict a property's price (i.e. `cena`) given its features (i.e. `m2,dzielnica,ilosc_sypialni,ilosc_lazienek,rok_budowy,parking_podziemny`). \n",
        "\n",
        "From now on, we should interfere only with `mieszkania.csv` (dubbed the training dataset) to make our decisions and create the model. The (only) purpose of `mieszkania_test.csv` is to test our model on **unseen** data.\n",
        "\n",
        "Our predictions should minimize the so-called mean squared logarithmic error:\n",
        "$$\n",
        "MSLE = \\frac{1}{n} \\sum_{i=1}^n (\\log(1+y_i) - \\log(1+p_i))^2,\n",
        "$$\n",
        "where $y_i$ is the ground truth, and $p_i$ is our prediction."
      ]
    },
    {
      "cell_type": "markdown",
      "metadata": {
        "id": "y8QX6Ncr-EoW",
        "colab_type": "text"
      },
      "source": [
        "Let's start with implementing the loss function."
      ]
    },
    {
      "cell_type": "code",
      "metadata": {
        "id": "JAiB8S9A-EoX",
        "colab_type": "code",
        "colab": {}
      },
      "source": [
        "import numpy as np\n",
        "import pandas\n",
        "import matplotlib.pyplot as plt\n",
        "\n",
        "# distances\n",
        "\n",
        "def mse(ys, ps):\n",
        "    ys = np.array(ys)\n",
        "    ps = np.array(ps)\n",
        "    return np.linalg.norm(ys - ps) / np.sqrt(len(ys)) #**2\n",
        "\n",
        "def msle(ys, ps):\n",
        "    ys = np.log(1 + np.array(ys))\n",
        "    ps = np.log(1 + np.maximum(-0.999, np.array(ps)))\n",
        "    return np.linalg.norm(ys - ps) / np.sqrt(len(ys)) #**2"
      ],
      "execution_count": 0,
      "outputs": []
    },
    {
      "cell_type": "markdown",
      "metadata": {
        "id": "zAmd2qLR-Eob",
        "colab_type": "text"
      },
      "source": [
        "The simplest model is predicting the same constant for each instance. Test your implementation of msle against outputing the mean price."
      ]
    },
    {
      "cell_type": "code",
      "metadata": {
        "id": "b0RT7VW7-Eoc",
        "colab_type": "code",
        "colab": {
          "base_uri": "https://localhost:8080/",
          "height": 34
        },
        "outputId": "895a96eb-7d1e-4260-b55e-7a911bf1374a"
      },
      "source": [
        "ms = pandas.read_csv('mieszkania.csv')\n",
        "avg_price = np.mean(ms.cena)\n",
        "avg_mse = mse(ms.cena, [avg_price] * len(ms.cena))\n",
        "avg_msle = msle(ms.cena, [avg_price] * len(ms.cena))\n",
        "print(avg_price, avg_mse, avg_msle)"
      ],
      "execution_count": 4,
      "outputs": [
        {
          "output_type": "stream",
          "text": [
            "507919.49 271680.6977271479 0.6257198684920441\n"
          ],
          "name": "stdout"
        }
      ]
    },
    {
      "cell_type": "markdown",
      "metadata": {
        "id": "a0zMmTiv-Eof",
        "colab_type": "text"
      },
      "source": [
        "Recall that outputing the mean minimzes $MSE$. However, we're now dealing with $MSLE$.\n",
        "\n",
        "Think of a constant that should result in the lowest $MSLE$."
      ]
    },
    {
      "cell_type": "code",
      "metadata": {
        "id": "Q0Z4drNd-Eog",
        "colab_type": "code",
        "colab": {
          "base_uri": "https://localhost:8080/",
          "height": 34
        },
        "outputId": "a9998a38-628d-4eda-e55e-63f11c30376f"
      },
      "source": [
        "best_c_msle = np.power(np.e, np.mean(np.log(ms.cena + 1))) - 1\n",
        "c_msle_mse = mse(ms.cena, [best_c_msle] * len(ms.cena))\n",
        "c_msle_msle = msle(ms.cena, [best_c_msle] * len(ms.cena))\n",
        "print(best_c_msle, c_msle_mse, c_msle_msle)"
      ],
      "execution_count": 5,
      "outputs": [
        {
          "output_type": "stream",
          "text": [
            "431435.49158234015 282241.39230712154 0.6040609341890592\n"
          ],
          "name": "stdout"
        }
      ]
    },
    {
      "cell_type": "markdown",
      "metadata": {
        "id": "2RdHlBw8-Eoi",
        "colab_type": "text"
      },
      "source": [
        "Now, let's implement a standard linear regression model. "
      ]
    },
    {
      "cell_type": "code",
      "metadata": {
        "id": "Vn97D3vd-Eoj",
        "colab_type": "code",
        "colab": {}
      },
      "source": [
        "# data preparation\n",
        "\n",
        "class PrepData(object):\n",
        "    \n",
        "    def __init__(\n",
        "        self, frame, predict, dummies=None,\n",
        "        scale=None, scale_ys=True, reference=None,\n",
        "        log_ys=False,\n",
        "    ):\n",
        "        if dummies is None:\n",
        "            dummies = []\n",
        "        if reference is None:\n",
        "            reference = {}\n",
        "        \n",
        "        self.predict = predict\n",
        "        self.dummies = dummies\n",
        "        self.reference = reference\n",
        "        \n",
        "        self.ys_ = np.array(frame[predict])\n",
        "        if log_ys:\n",
        "          self.ys_ = np.log(1 + self.ys_)\n",
        "        \n",
        "        if not scale_ys:\n",
        "            self.ys_min = 0.\n",
        "            self.ys_max = 1.\n",
        "        else:\n",
        "            self.ys_min = min(self.ys_)\n",
        "            self.ys_max = max(self.ys_)\n",
        "        self.ys = (self.ys_ - self.ys_min)/(self.ys_max - self.ys_min)\n",
        "        \n",
        "        self.n = len(self.ys)  # number of samples\n",
        "        assert(self.n > 0)\n",
        "        frame = frame.drop(columns=predict)\n",
        "        \n",
        "        frame = self.get_dummies(frame, dummies, reference)\n",
        "        \n",
        "        if scale is None:\n",
        "            scale = frame.columns\n",
        "        self.scale_factors = [\n",
        "            (c, min(frame[c]), max(frame[c])) for c in scale\n",
        "        ]\n",
        "        frame = self.scale_frame(frame, self.scale_factors)\n",
        "        \n",
        "        columns = frame.columns\n",
        "        xs = frame.values\n",
        "        self.xs = np.c_[np.ones(self.n), xs]\n",
        "        self.columns = ['Intercept'] + list(columns)\n",
        "        self.m = len(self.xs[0])  # number of features\n",
        "    \n",
        "    @classmethod\n",
        "    def get_dummies(cls, frame, dummies, reference):\n",
        "        for dummy in dummies:\n",
        "            dummies_cols = pandas.get_dummies(frame[dummy])\n",
        "            # one of the categories should be dropped to avoid \n",
        "            # perfectly lineary dependent columns in the model\n",
        "            # (is this any trouble for gradient descent though?)\n",
        "            drop = reference.get(dummy, dummies_cols.columns[-1])\n",
        "            dummies_cols = dummies_cols.drop(columns=drop)\n",
        "            frame = frame.join(dummies_cols)\n",
        "            frame = frame.drop(columns=dummy)\n",
        "        return frame\n",
        "    \n",
        "    @classmethod\n",
        "    def scale_frame(cls, frame, scales):\n",
        "        return frame.assign(**{\n",
        "            c: (frame[c] - mn)/(mx - mn)\n",
        "            for c, mn, mx in scales\n",
        "        })\n",
        "    \n",
        "    def test_data(self, frame):\n",
        "        if self.predict in frame.columns:\n",
        "            frame.drop(columns=self.predict)\n",
        "        frame = self.get_dummies(frame, self.dummies, self.reference)\n",
        "        fcs = frame.columns\n",
        "        for c in self.columns:\n",
        "            if c not in fcs:\n",
        "                frame[c] = 1 if c == 'Intercept' else 0\n",
        "        frame = frame[self.columns]\n",
        "        frame = self.scale_frame(frame, self.scale_factors)\n",
        "        return frame.values\n",
        "    \n",
        "    def inflate_ys(self, ys):\n",
        "        return ys * (self.ys_max - self.ys_min) + self.ys_min\n",
        "\n",
        "\n",
        "\n",
        "class Training(object):\n",
        "\n",
        "    \"\"\"Results of training on particual data using particular method\"\"\"\n",
        "    \n",
        "    def __init__(self, ws, losses, trainer):\n",
        "        self.ws = ws\n",
        "        self.losses = losses\n",
        "        self.trainer = trainer\n",
        "        self.prep_data = trainer.prep_data\n",
        "    \n",
        "    def plot(self, *args, **kwargs):\n",
        "        plt.plot(self.losses, *args, **kwargs)\n",
        "    \n",
        "    def train_error(self):\n",
        "        return self.losses[-1]\n",
        "    \n",
        "    def error(self, l=None, xs=None):\n",
        "        return self.trainer.evaluate(self.ws, xs, l)\n",
        "    \n",
        "    def test_error(self, l, frame):\n",
        "        xs = self.prep_data.test_data(frame)\n",
        "        return self.error(l, xs)\n",
        "    \n",
        "    def coefs(self):\n",
        "        return ((coef, w) for coef, w in zip(self.prep_data.columns, self.ws))\n",
        "\n",
        "\n",
        "\n",
        "class LRGradDesc(object):\n",
        "\n",
        "    \"\"\"Performs linear reg. using grad descent\"\"\"\n",
        "    \n",
        "    def __init__(self, prep_data, loss=None, grad=None):\n",
        "        self.loss = loss or mse\n",
        "        self.grad = grad or Gradient.get('mse')        \n",
        "        self.prep_data = prep_data\n",
        "\n",
        "    def train(self, n_epochs=100, l_rate=None, ws=None, r_start=None):\n",
        "        ys = self.prep_data.ys\n",
        "        if l_rate is None:\n",
        "            l_rate = self.l_rate_of_mean(ys)\n",
        "        \n",
        "        if ws is None:\n",
        "            m = self.prep_data.m\n",
        "            if r_start is None:\n",
        "                ws = np.array([0.] + [1.] * (self.prep_data.m - 1))\n",
        "            else:\n",
        "                ws = np.array([\n",
        "                    float(random.randint(-r_start, r_start)) for _ in range(0, m)\n",
        "                ])\n",
        "        losses = []\n",
        "        xs = self.prep_data.xs\n",
        "        for i in range(n_epochs):\n",
        "            ws -= l_rate * self.grad(ws, ys, xs)\n",
        "            losses.append(self.evaluate(ws))\n",
        "        return Training(ws, losses, self)\n",
        "\n",
        "    def evaluate(self, ws, xs=None, l=None):\n",
        "        return (l or self.loss)(self.prep_data.ys_, self.predict(ws, xs))\n",
        "    \n",
        "    def predict(self, ws, xs=None):\n",
        "        pred = np.dot(xs if xs is not None else self.prep_data.xs, ws)\n",
        "        return self.prep_data.inflate_ys(pred)\n",
        "    \n",
        "    @classmethod\n",
        "    def l_rate_of_mean(cls, ys):\n",
        "        return 0.1 * 10**(-np.ceil(np.log10(np.mean(ys))))\n",
        "\n",
        "\n",
        "class Gradient(object):\n",
        "\n",
        "    \"\"\"Available gradients\"\"\"\n",
        "    \n",
        "    @classmethod\n",
        "    def get(cls, name):\n",
        "        return getattr(cls(), name)\n",
        "\n",
        "    def mse(self, ws, ys, xs):\n",
        "        pred = np.dot(xs, ws)\n",
        "        df_t = np.transpose(ys - pred)\n",
        "        return np.dot(df_t, xs) * (-2.) / len(ys)\n",
        "\n",
        "    def msle(self, ws, ys, xs):\n",
        "        pred_1 = np.dot(xs, ws) + 1\n",
        "        df_t = np.transpose(np.log(1 + ys) - np.log(pred_1))\n",
        "        innerd = np.dot(np.diag(1. / pred_1), xs)\n",
        "        return np.dot(df_t, innerd) * (-2.) / len(ys)\n",
        "\n",
        "\n",
        "class ExactMSEReg(object):\n",
        "\n",
        "    \"\"\"'Exact' linear regression\"\"\"\n",
        "    \n",
        "    def __init__(self, prep_data):\n",
        "        self.prep_data = prep_data\n",
        "    \n",
        "    def train(self, ridge=None):\n",
        "        x = self.prep_data.xs\n",
        "        ys = self.prep_data.ys\n",
        "        x_t = np.transpose(x)\n",
        "        x_t_x = np.dot(x_t, x)\n",
        "        if ridge is not None:\n",
        "            n = len(x_t_x)\n",
        "            x_t_x += n * ridge * np.identity(n)\n",
        "        ws = np.linalg.solve(x_t_x, np.dot(x_t, ys))\n",
        "        losses = [self.evaluate(ws)]\n",
        "        return Training(ws, losses, self)\n",
        "    \n",
        "    def evaluate(self, ws, xs=None, l=None):\n",
        "        return (l or mse)(self.prep_data.ys_, self.predict(ws, xs))\n",
        "    \n",
        "    def predict(self, ws, xs=None):\n",
        "        pred = np.dot(xs if xs is not None else self.prep_data.xs, ws)\n",
        "        return self.prep_data.inflate_ys(pred)\n"
      ],
      "execution_count": 0,
      "outputs": []
    },
    {
      "cell_type": "code",
      "metadata": {
        "id": "XJXMMGxpRLvA",
        "colab_type": "code",
        "colab": {
          "base_uri": "https://localhost:8080/",
          "height": 299
        },
        "outputId": "c0121146-e2d8-404d-f4b4-5094fe3424d1"
      },
      "source": [
        "# first, let's look at the toy example from previous lecture as \n",
        "# sanity check form the code\n",
        "\n",
        "import random\n",
        "\n",
        "m = 2 # features\n",
        "n = 50 # number of examples\n",
        "\n",
        "_a = 0.3\n",
        "_b = 0.5\n",
        "\n",
        "f = lambda x: _a * x + _b # ground truth\n",
        "g = lambda x: f(x) + random.gauss(0, 0.02) # a noisy version of f\n",
        "\n",
        "toy_xs = [random.random() for _ in range(n)] # features\n",
        "toy_ys = list(map(g, toy_xs)) # targets\n",
        "\n",
        "toy_ts = list(map(f, toy_xs)) # we don't get to see this\n",
        "\n",
        "toy_data = pandas.DataFrame(np.c_[toy_xs, toy_ys])\n",
        "toy_data.columns = ('xs', 'ys',)\n",
        "\n",
        "# toy example numeric descend\n",
        "\n",
        "n_epochs = 300\n",
        "\n",
        "toy_pdata = PrepData(toy_data, 'ys', scale_ys=False)\n",
        "\n",
        "toy_desc = LRGradDesc(toy_pdata, mse, Gradient.get('mse'))\n",
        "toy_desc_r = toy_desc.train(n_epochs)\n",
        "toy_desc_r.plot()\n",
        "\n",
        "toy_exact = ExactMSEReg(toy_pdata).train()\n",
        "plt.plot([toy_exact.error(mse)] * n_epochs)\n",
        "\n",
        "for ((c, w), (_, ww)) in zip(toy_desc_r.coefs(), toy_exact.coefs()):\n",
        "    print (c, w, ww)\n"
      ],
      "execution_count": 7,
      "outputs": [
        {
          "output_type": "stream",
          "text": [
            "Intercept 0.5011532720124918 0.5055863890999448\n",
            "xs 0.29242390472111224 0.284655907590917\n"
          ],
          "name": "stdout"
        },
        {
          "output_type": "display_data",
          "data": {
            "image/png": "[encoded data removed]",
            "text/plain": [
              "<Figure size 432x288 with 1 Axes>"
            ]
          },
          "metadata": {
            "tags": []
          }
        }
      ]
    },
    {
      "cell_type": "code",
      "metadata": {
        "id": "K3cDjaMGTDwl",
        "colab_type": "code",
        "colab": {
          "base_uri": "https://localhost:8080/",
          "height": 497
        },
        "outputId": "0997d78a-01e9-431c-92f4-8dcf158dff7c"
      },
      "source": [
        "# ok, mse regression for the data eventually\n",
        "\n",
        "epochs=4000\n",
        "\n",
        "ms = pandas.read_csv('mieszkania.csv')\n",
        "ms_d = PrepData(ms, 'cena', ('dzielnica',), reference={'dzielnica': 'ochotowo'})\n",
        "\n",
        "\n",
        "# gradietn descent (mse)\n",
        "l_mse_a = LRGradDesc(ms_d, mse, Gradient.get('mse'))\n",
        "l_mse_a_r = l_mse_a.train(epochs, 0.3)\n",
        "l_mse_a_r.plot(color='blue')\n",
        "\n",
        "\n",
        "# mse optimized with explicit formula\n",
        "l_mse_exact = ExactMSEReg(ms_d).train()\n",
        "plt.plot([l_mse_exact.error(mse)] * epochs, color='green')\n",
        "\n",
        "\n",
        "# compare results\n",
        "print(l_mse_a_r.error(mse), l_mse_exact.error(mse), \"\\n\")\n",
        "for ((c, dw), (_, aw)) in zip(l_mse_a_r.coefs(), l_mse_exact.coefs()):\n",
        "    print (c, dw, aw)\n",
        "\n",
        "\n",
        "# check with test data\n",
        "ms_tst = pandas.read_csv('mieszkania_test.csv')\n",
        "l_mse_a_r_t = l_mse_a_r.test_error(mse, ms_tst)\n",
        "plt.plot([l_mse_a_r_t] * epochs, color='orange')\n",
        "print(\"\\n\", l_mse_a_r_t)"
      ],
      "execution_count": 8,
      "outputs": [
        {
          "output_type": "stream",
          "text": [
            "62195.865627280815 62195.865622777346 \n",
            "\n",
            "Intercept 0.07351355467721402 0.07351216255841564\n",
            "m2 0.8723664973929199 0.872375878083021\n",
            "ilość_sypialni -0.012829573049500777 -0.012834233656186224\n",
            "ilość_łazienek -0.02751310931477963 -0.027516536594948703\n",
            "rok_budowy 0.021939127733718627 0.021939490156789244\n",
            "parking_podziemny 0.024556024331221307 0.024556174519774265\n",
            "grodziskowo -0.23990321202855414 -0.23990335669263907\n",
            "mokotowo -0.00553240207699417 -0.005532406406839382\n",
            "wolowo -0.16744150275488692 -0.16744156133033614\n",
            "\n",
            " 378260.2024091535\n"
          ],
          "name": "stdout"
        },
        {
          "output_type": "display_data",
          "data": {
            "image/png": "[encoded data removed]",
            "text/plain": [
              "<Figure size 432x288 with 1 Axes>"
            ]
          },
          "metadata": {
            "tags": []
          }
        }
      ]
    },
    {
      "cell_type": "markdown",
      "metadata": {
        "id": "nzrrOte5-Eol",
        "colab_type": "text"
      },
      "source": [
        "Note that the loss function that the algorithms optimizes (i.e $MSE$) differs from $MSLE$. We've already seen that this may result in a suboptimal solution.\n",
        "\n",
        "How can you change the setting so that we optimze $MSLE$ instead?"
      ]
    },
    {
      "cell_type": "markdown",
      "metadata": {
        "id": "qVD8kWEJ-Eom",
        "colab_type": "text"
      },
      "source": [
        "Hint: \n",
        "<sub><sup><sub><sup><sub><sup>\n",
        "Be lazy. We don't want to change the algorithm.\n",
        "</sup></sub></sup></sub></sup></sub>"
      ]
    },
    {
      "cell_type": "code",
      "metadata": {
        "id": "MniIPMg8-Eom",
        "colab_type": "code",
        "colab": {
          "base_uri": "https://localhost:8080/",
          "height": 469
        },
        "outputId": "7c9c0060-a1f2-40d2-e7a4-f1fd18949760"
      },
      "source": [
        "epochs=10000\n",
        "\n",
        "ms = pandas.read_csv('mieszkania.csv')\n",
        "ms_d = PrepData(ms, 'cena', ('dzielnica',), reference={'dzielnica': 'ochotowo'})\n",
        "\n",
        "msle_a = LRGradDesc(ms_d, msle, Gradient.get('msle'))\n",
        "msle_r = msle_a.train(epochs, 0.005, ws=[-0.1] * ms_d.m)\n",
        "msle_r.plot(color='blue')\n",
        "\n",
        "# msle optimized with explicit formula for mse (fitting linear model to log(1+yi))\n",
        "ms_d_log = PrepData(ms, 'cena', ('dzielnica',), reference={'dzielnica': 'ochotowo'}, log_ys=True)\n",
        "l_mlse_exact = ExactMSEReg(ms_d_log).train()\n",
        "plt.plot([l_mlse_exact.error(mse)] * epochs, color='green')\n",
        "\n",
        "print(msle_r.train_error(), msle_r.error(mse), l_mlse_exact.error(mse))\n",
        "\n",
        "ms_tst = pandas.read_csv('mieszkania_test.csv')\n",
        "msle_r_t = msle_r.test_error(msle, ms_tst)\n",
        "plt.plot([msle_r_t] * epochs, color='orange')\n",
        "l_mlse_exact_t = l_mlse_exact.test_error(mse, ms_tst)\n",
        "plt.plot([l_mlse_exact_t] * epochs, color='red')\n",
        "print(msle_r_t, l_mlse_exact_t, \"\\n\")\n",
        "\n",
        "for ((c, dw), (_, ew)) in zip(msle_r.coefs(), l_mlse_exact.coefs()):\n",
        "    print (c, dw, ew)"
      ],
      "execution_count": 9,
      "outputs": [
        {
          "output_type": "stream",
          "text": [
            "0.2242123935551023 76468.77857192402 0.17391518980528248\n",
            "0.8490476670493459 0.8297505990676357 \n",
            "\n",
            "Intercept 0.12740312988311245 0.2738848915194801\n",
            "m2 0.3709492540754932 0.8980895621027163\n",
            "ilość_sypialni 0.22204476626978564 -0.011972822112291715\n",
            "ilość_łazienek 0.1463211326481923 -0.10812386529926177\n",
            "rok_budowy 0.007395515757821627 0.0053005335305156935\n",
            "parking_podziemny 0.01750944703240785 0.012263741604246873\n",
            "grodziskowo -0.18773827280084596 -0.19631431190636803\n",
            "mokotowo 0.006525927879756269 0.0028067419114249873\n",
            "wolowo -0.12348264424911318 -0.11531845688030862\n"
          ],
          "name": "stdout"
        },
        {
          "output_type": "display_data",
          "data": {
            "image/png": "[encoded data removed]",
            "text/plain": [
              "<Figure size 432x288 with 1 Axes>"
            ]
          },
          "metadata": {
            "tags": []
          }
        }
      ]
    },
    {
      "cell_type": "markdown",
      "metadata": {
        "id": "OvWrBkLu-Eoo",
        "colab_type": "text"
      },
      "source": [
        "Without any feature engineering our model approximates the price as a linear combination of original features:\n",
        "$$\n",
        "\\text{price} \\approx w_1 \\cdot \\text{area} + w_2 \\cdot \\text{district} + \\dots.\n",
        "$$\n",
        "Let's now introduce some interactions between the variables. For instance, let's consider a following formula:\n",
        "$$\n",
        "\\text{price} \\approx w_1 \\cdot \\text{area} \\cdot \\text{avg. price in the district per sq. meter} + w_2 \\cdot \\dots + \\dots.\n",
        "$$\n",
        "Here, we model the price with far greater granularity, and we may expect to see more acurate results."
      ]
    },
    {
      "cell_type": "markdown",
      "metadata": {
        "id": "zBM60E7t-Eop",
        "colab_type": "text"
      },
      "source": [
        "Add some feature engineering to your model. Be sure to play with the data and not with the algorithm's code. \n",
        "\n",
        "Think how to make sure that your model is capable of capturing the $w_1 \\cdot \\text{area} \\cdot \\text{avg. price...}$ part, without actually computing the averages."
      ]
    },
    {
      "cell_type": "markdown",
      "metadata": {
        "id": "XT5DziNC-Eoq",
        "colab_type": "text"
      },
      "source": [
        "Hint: \n",
        "<sub><sup><sub><sup><sub><sup>\n",
        "Is having a binary encoding for each district and multiplying it by area enough?\n",
        "</sup></sub></sup></sub></sup></sub>"
      ]
    },
    {
      "cell_type": "markdown",
      "metadata": {
        "id": "PKOVCHNz-Eor",
        "colab_type": "text"
      },
      "source": [
        "Hint 2: \n",
        "<sub><sup><sub><sup><sub><sup>\n",
        "Why not multiply everything together? I.e. (A,B,C) -> (AB,AC,BC).\n",
        "</sup></sub></sup></sub></sup></sub>"
      ]
    },
    {
      "cell_type": "code",
      "metadata": {
        "id": "DPviz09O-Eor",
        "colab_type": "code",
        "colab": {
          "base_uri": "https://localhost:8080/",
          "height": 656
        },
        "outputId": "9a386f27-0ce5-488c-b05b-a44d1b35e010"
      },
      "source": [
        "# product of all non-dummies\n",
        "epochs=10000\n",
        "\n",
        "ms = pandas.read_csv('mieszkania.csv')\n",
        "ms_t = pandas.read_csv('mieszkania_test.csv')\n",
        "columns = [c for c in ms.columns if c not in ['dzielnica', 'cena']]\n",
        "for i, col1 in enumerate(columns):\n",
        "    for j, col2 in enumerate(columns):\n",
        "        if j <= i:\n",
        "            continue\n",
        "        ms['{}_{}'.format(col1, col2)] = ms[col1] * ms[col2]\n",
        "        ms_t['{}_{}'.format(col1, col2)] = ms_t[col1] * ms_t[col2]\n",
        "ms_p = PrepData(ms, 'cena', ('dzielnica',), reference={'dzielnica': 'ochotowo'})\n",
        "\n",
        "msle_p = LRGradDesc(ms_p, msle, Gradient.get('msle'))\n",
        "msle_pr = msle_p.train(epochs, 0.005, ws=[0.] * ms_p.m)\n",
        "msle_pr.plot(color='blue')\n",
        "\n",
        "mse_p = LRGradDesc(ms_p, mse, Gradient.get('mse'))\n",
        "mse_pr = mse_p.train(epochs, 0.2)\n",
        "# mse_pr.plot(c='orange')\n",
        "\n",
        "\n",
        "# msle optimized with explicit formula for mse (fitting linear model to log(1+yi))\n",
        "ms_d_log = PrepData(ms, 'cena', ('dzielnica',), reference={'dzielnica': 'ochotowo'}, log_ys=True)\n",
        "msle_p_exact = ExactMSEReg(ms_d_log).train()\n",
        "plt.plot([msle_p_exact.error(mse)] * epochs, color='green')\n",
        "\n",
        "print(msle_pr.train_error(), msle_pr.error(mse), mse_pr.error(msle), mse_pr.error(mse), msle_p_exact.error(mse), \"\\n\")\n",
        "\n",
        "msle_pr_t = msle_pr.test_error(msle, ms_t)\n",
        "plt.plot([msle_pr_t] * epochs, color='orange')\n",
        "msle_p_exact_t = msle_p_exact.test_error(mse, ms_t)\n",
        "plt.plot([msle_p_exact_t] * epochs, color='red')\n",
        "print(msle_pr_t, msle_p_exact_t, \"\\n\")\n",
        "\n",
        "for ((c, dw), (_, mw), (_, ew)) in zip(msle_pr.coefs(), mse_pr.coefs(), msle_p_exact.coefs()):\n",
        "    print (c, dw, mw, ew)"
      ],
      "execution_count": 10,
      "outputs": [
        {
          "output_type": "stream",
          "text": [
            "0.20492495497437388 70449.86758460048 1.3450741510229471 61659.759404326294 0.0953958990810623 \n",
            "\n",
            "0.8459741968267376 0.8426268755825546 \n",
            "\n",
            "Intercept 0.12219801107326586 0.08726366420733025 0.12402732188734461\n",
            "m2 0.20249660745370157 0.3949557297005503 4.274548385091718\n",
            "ilość_sypialni 0.05266365648822798 -0.04592409052482991 -1.1660720084218783\n",
            "ilość_łazienek 0.021820162261160483 -0.07900729374497305 -1.3101734314840496\n",
            "rok_budowy 0.0038224165230403106 0.006142230470580491 -0.009630931673975442\n",
            "parking_podziemny 0.006711524671977901 -0.046170969584674273 0.11580029781169134\n",
            "m2_ilość_sypialni 0.10938229916274553 -0.03164134906390176 -1.6541207980004284\n",
            "m2_ilość_łazienek 0.09133930111904533 0.15232381986910692 -1.176825414745587\n",
            "m2_rok_budowy 0.20006701065837518 0.4293905567657737 -1.7652243545344382\n",
            "m2_parking_podziemny 0.0482743008720307 -0.015019173860504999 -0.1193580440980915\n",
            "ilość_sypialni_ilość_łazienek 0.02556464693439024 -0.0016311172943205934 2.060105027461669\n",
            "ilość_sypialni_rok_budowy 0.05056373731288919 0.03643653787750678 1.0228599067573176\n",
            "ilość_sypialni_parking_podziemny -0.004258487527948126 0.05384946075439941 0.06267204728451485\n",
            "ilość_łazienek_rok_budowy 0.021386409579446635 -0.007465519749140423 0.6110365396130529\n",
            "ilość_łazienek_parking_podziemny -0.029235316348140493 -0.025654073565679527 0.04855222668085583\n",
            "rok_budowy_parking_podziemny 0.0053112338144725504 0.057840635379815056 -0.10521043146242666\n",
            "grodziskowo -0.18402594191154895 -0.2376925202773558 -0.21905615388771732\n",
            "mokotowo 0.009836192263753448 -0.006327314543981917 -0.004536224740081128\n",
            "wolowo -0.12075602502650137 -0.1662648981910417 -0.12566835016981048\n"
          ],
          "name": "stdout"
        },
        {
          "output_type": "display_data",
          "data": {
            "image/png": "[encoded data removed]",
            "text/plain": [
              "<Figure size 432x288 with 1 Axes>"
            ]
          },
          "metadata": {
            "tags": []
          }
        }
      ]
    },
    {
      "cell_type": "code",
      "metadata": {
        "id": "v2Lj1TPr-Eot",
        "colab_type": "code",
        "colab": {
          "base_uri": "https://localhost:8080/",
          "height": 537
        },
        "outputId": "a75bbd0b-afb1-46fc-9f24-bb7b8062c975"
      },
      "source": [
        "# features chosen by-hand\n",
        "\n",
        "epochs=10000\n",
        "\n",
        "\n",
        "def log_m2(frame):\n",
        "    \"\"\"log of flat size (mse gives negative values to number of bathrooms and bedrooms,\n",
        "    possibly due to the fact that for especially big flats avg_price*area\n",
        "    overestimates the price)\"\"\"\n",
        "    \n",
        "    return frame.assign(**{\n",
        "        'logm2': lambda m:np.log(np.array(m.m2)),\n",
        "        'm2_logm2': lambda m:np.log(np.array(m.m2)) * np.array(m.m2),\n",
        "    })\n",
        "\n",
        "\n",
        "def avg_district(frame):\n",
        "    \"\"\"to capture the fact that avg. price per m2 in different districts of the city might be different\"\"\"\n",
        "    district_dummies = pandas.get_dummies(frame['dzielnica'])\n",
        "    frame = frame.assign(**{\n",
        "        '{}_avg'.format(col): np.array(district_dummies[col]) * np.array(frame.m2)\n",
        "        for col in district_dummies.columns\n",
        "        if col != 'ochotowo'  # reference column (otherwise they would be lineary dependent)\n",
        "    })\n",
        "    frame = frame.drop(columns='dzielnica')\n",
        "    return frame\n",
        "\n",
        "\n",
        "def prepare_df(frame):\n",
        "    frame = log_m2(frame)\n",
        "    frame = avg_district(frame)\n",
        "    frame = frame.assign(\n",
        "        lazienki_i_sypialnie=lambda m: np.array(m['ilość_sypialni']) * np.array(m['ilość_łazienek'])\n",
        "    )\n",
        "    return frame\n",
        "\n",
        "ms_f = pandas.read_csv('mieszkania.csv')\n",
        "ms_f = prepare_df(ms_f)\n",
        "ms_f_p = PrepData(ms_f, 'cena', [])\n",
        "\n",
        "msle_f = LRGradDesc(ms_f_p, msle, Gradient.get('msle'))\n",
        "msle_fr = msle_f.train(epochs, 0.005, ws=[0.] * ms_f_p.m)\n",
        "msle_fr.plot(color='blue')\n",
        "\n",
        "mse_f = LRGradDesc(ms_f_p, mse, Gradient.get('mse'))\n",
        "mse_fr = mse_f.train(epochs, 0.3)\n",
        "\n",
        "# msle optimized with explicit formula for mse (fitting linear model to log(1+yi))\n",
        "ms_f_log = PrepData(ms_f, 'cena', [], log_ys=True)\n",
        "msle_f_exact = ExactMSEReg(ms_f_log).train()\n",
        "plt.plot([msle_f_exact.error(mse)] * epochs, color='green')\n",
        "\n",
        "print(msle_fr.train_error(), msle_fr.error(mse), mse_fr.error(msle), mse_fr.error(mse), msle_f_exact.error(mse), \"\\n\")\n",
        "\n",
        "ms_f_t = pandas.read_csv('mieszkania_test.csv')\n",
        "ms_f_t = prepare_df(ms_f_t)\n",
        "msle_fr_t = msle_fr.test_error(msle, ms_f_t)\n",
        "plt.plot([msle_fr_t] * epochs, color='orange')\n",
        "msle_f_exact_t = msle_f_exact.test_error(mse, ms_f_t)\n",
        "plt.plot([msle_f_exact_t] * epochs, color='red')\n",
        "print(msle_fr_t, msle_f_exact_t, \"\\n\")\n",
        "\n",
        "for ((c, dw), (_, mw), (_, ew)) in zip(msle_fr.coefs(), mse_fr.coefs(), msle_f_exact.coefs()):\n",
        "    print (c, dw, mw, ew)\n"
      ],
      "execution_count": 11,
      "outputs": [
        {
          "output_type": "stream",
          "text": [
            "0.10620941365515965 52259.8887693501 0.08392555883863528 28425.910982979985 0.10058764312750137 \n",
            "\n",
            "0.8122715049448083 0.8375464576155802 \n",
            "\n",
            "Intercept 0.022015749322114336 0.010793465396387397 0.04436320020188902\n",
            "m2 0.19980177871406918 0.41986082042017847 2.906235823790145\n",
            "ilość_sypialni 0.11652101268322718 0.022881107736049427 0.03201485926909825\n",
            "ilość_łazienek 0.07493156232724205 0.005215118165973682 0.01597593035916931\n",
            "rok_budowy -0.0010377685056922944 0.0054055773450434556 0.0010769439319686662\n",
            "parking_podziemny 0.01140840034373933 0.01665486552332591 0.011875405992347233\n",
            "logm2 0.19308844306442033 0.10704432497266472 0.4395139412073834\n",
            "m2_logm2 0.20048161365439338 0.4695227011205492 -2.38949410095367\n",
            "grodziskowo_avg -0.33791764093621357 -0.4797958326013058 -0.37174579458111534\n",
            "mokotowo_avg 0.09790199501849726 -0.034963739561666714 -0.021589332970606886\n",
            "wolowo_avg -0.1805299174160337 -0.31325473129408854 -0.19642973691469276\n",
            "lazienki_i_sypialnie 0.09747925257011919 -0.025315007706525117 -0.024642281213864893\n"
          ],
          "name": "stdout"
        },
        {
          "output_type": "display_data",
          "data": {
            "image/png": "[encoded data removed]",
            "text/plain": [
              "<Figure size 432x288 with 1 Axes>"
            ]
          },
          "metadata": {
            "tags": []
          }
        }
      ]
    }
  ]
}